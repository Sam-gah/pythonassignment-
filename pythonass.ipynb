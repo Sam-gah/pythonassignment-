{
 "cells": [
  {
   "cell_type": "code",
   "execution_count": 1,
   "metadata": {},
   "outputs": [
    {
     "name": "stdout",
     "output_type": "stream",
     "text": [
      "Prime numbers between 1 and 100: [2, 3, 5, 7, 11, 13, 17, 19, 23, 29, 31, 37, 41, 43, 47, 53, 59, 61, 67, 71, 73, 79, 83, 89, 97]\n"
     ]
    }
   ],
   "source": [
    "#Prime Number Finder within a Range using a Function \n",
    "import math\n",
    "\n",
    "def is_prime(num):\n",
    "    if num <= 1:\n",
    "        return False\n",
    "    for i in range(2, int(math.sqrt(num)) + 1):\n",
    "        if num % i == 0:\n",
    "            return False\n",
    "    return True\n",
    "\n",
    "def find_primes_in_range(start, end):\n",
    "    primes = []\n",
    "    for num in range(start, end + 1):\n",
    "        if is_prime(num):\n",
    "            primes.append(num)\n",
    "    return primes\n",
    "\n",
    "# Example usage:\n",
    "start_range = 1\n",
    "end_range = 100\n",
    "primes = find_primes_in_range(start_range, end_range)\n",
    "print(f\"Prime numbers between {start_range} and {end_range}: {primes}\")\n"
   ]
  },
  {
   "cell_type": "code",
   "execution_count": 2,
   "metadata": {},
   "outputs": [
    {
     "name": "stdout",
     "output_type": "stream",
     "text": [
      "radar is a palindrome.\n"
     ]
    }
   ],
   "source": [
    "#Palindrome Checker\n",
    "def is_palindrome(string):\n",
    "    return string == string[::-1]\n",
    "\n",
    "# Example usage:\n",
    "word = \"radar\"\n",
    "if is_palindrome(word):\n",
    "    print(f\"{word} is a palindrome.\")\n",
    "else:\n",
    "    print(f\"{word} is not a palindrome.\")\n"
   ]
  },
  {
   "cell_type": "code",
   "execution_count": 3,
   "metadata": {},
   "outputs": [
    {
     "name": "stdout",
     "output_type": "stream",
     "text": [
      "Fibonacci sequence up to 100: [0, 1, 1, 2, 3, 5, 8, 13, 21, 34, 55, 89, 144]\n"
     ]
    }
   ],
   "source": [
    "#Fibonacci Sequence Generator\n",
    "def generate_fibonacci(num):\n",
    "    fib_sequence = [0, 1]\n",
    "    while fib_sequence[-1] < num:\n",
    "        next_num = fib_sequence[-1] + fib_sequence[-2]\n",
    "        fib_sequence.append(next_num)\n",
    "    return fib_sequence\n",
    "\n",
    "# Example usage:\n",
    "fib_sequence = generate_fibonacci(100)\n",
    "print(f\"Fibonacci sequence up to {100}: {fib_sequence}\")\n",
    "\n"
   ]
  },
  {
   "cell_type": "code",
   "execution_count": 4,
   "metadata": {},
   "outputs": [],
   "source": [
    "import random\n",
    "\n",
    "def guess_number():\n",
    "    random_number = random.randint(1, 100)\n",
    "    guess = None\n",
    "    while guess != random_number:\n",
    "        try:\n",
    "            guess = int(input(\"Guess a number between 1 and 100: \"))\n",
    "        except ValueError:\n",
    "            continue # Skip invalid inputs silently\n",
    "        if guess < random_number:\n",
    "            print(\"Too low! Try again.\")\n",
    "        elif guess > random_number:\n",
    "            print(\"Too high! Try again.\")\n",
    "    print(f\"Congratulations! You guessed the number {random_number} correctly!\")\n",
    "\n",
    "# Run the game once\n",
    "guess_number()\n",
    "\n"
   ]
  }
 ],
 "metadata": {
  "kernelspec": {
   "display_name": "Python 3",
   "language": "python",
   "name": "python3"
  },
  "language_info": {
   "codemirror_mode": {
    "name": "ipython",
    "version": 3
   },
   "file_extension": ".py",
   "mimetype": "text/x-python",
   "name": "python",
   "nbconvert_exporter": "python",
   "pygments_lexer": "ipython3",
   "version": "3.12.1"
  }
 },
 "nbformat": 4,
 "nbformat_minor": 2
}
